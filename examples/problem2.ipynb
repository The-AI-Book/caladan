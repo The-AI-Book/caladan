{
 "cells": [
  {
   "cell_type": "code",
   "execution_count": null,
   "metadata": {},
   "outputs": [],
   "source": [
    "from osgeo import gdal, gdalconst\n",
    "gdal.UseExceptions() # Raise exceptions instead of returning None\n",
    "\n",
    "from azure.storage.blob import BlobServiceClient\n",
    "from azure.storage.blob import BlobClient # también en ASINC\n",
    "\n",
    "import os\n",
    "\n",
    "import matplotlib.pyplot as plt\n",
    "import numpy as np"
   ]
  },
  {
   "cell_type": "code",
   "execution_count": null,
   "metadata": {},
   "outputs": [],
   "source": [
    "from osgeo import gdal, gdalconst\n",
    "gdal.UseExceptions() # Raise exceptions instead of returning None\n",
    "\n",
    "from azure.storage.blob import BlobServiceClient\n",
    "from azure.storage.blob import BlobClient # también en ASINC\n",
    "\n",
    "import os\n",
    "\n",
    "import matplotlib.pyplot as plt\n",
    "import numpy as np"
   ]
  },
  {
   "cell_type": "code",
   "execution_count": null,
   "metadata": {},
   "outputs": [],
   "source": [
    "def get_lossy_options():\n",
    "    \"\"\"\n",
    "    Define options for lossy compression for image previews.\n",
    "    \"\"\"\n",
    "    opts = {\n",
    "        \"COMPRESS=JPEG\",     # Better lossy compression\n",
    "        \"JPEG_QUALITY=50\"\n",
    "        \"PHOTOMETRIC=YCBCR\", # Better than RGB for human perception\n",
    "        \"TILED=YES\"\n",
    "        # \"OUTPUTFORMAT=COG\"\n",
    "    }\n",
    "    return gdal.TranslateOptions(format=\"GTiff\", bandList=[1,2,3], outputType=gdalconst.GDT_Byte, creationOptions=opts)\n",
    "    # return gdal.TranslateOptions(format=\"JPEG\", creationOptions=opts)\n"
   ]
  },
  {
   "cell_type": "code",
   "execution_count": null,
   "metadata": {},
   "outputs": [],
   "source": [
    "def compress(input_path, output_path):\n",
    "    inputfile = gdal.Open(input_path, gdal.GA_ReadOnly)\n",
    "    #opts = get_lossy_options()\n",
    "    opts = \"-co COMPRESS=DEFLATE -co PREDICTOR=2\"\n",
    "    dest = gdal.Translate(output_path, inputfile, options=opts)\n",
    "    return dest"
   ]
  },
  {
   "cell_type": "code",
   "execution_count": null,
   "metadata": {},
   "outputs": [],
   "source": [
    "if os.path.exists(output_path):\n",
    "    os.remove(output_path)\n",
    "\n",
    "dest = compress(input_path, output_path)"
   ]
  },
  {
   "cell_type": "code",
   "execution_count": null,
   "metadata": {},
   "outputs": [],
   "source": [
    "send2vm()"
   ]
  },
  {
   "cell_type": "code",
   "execution_count": null,
   "metadata": {},
   "outputs": [],
   "source": [
    "ds = gdal.Open(input_path, gdal.GA_ReadOnly)\n",
    "r = ds.GetRasterBand(1).ReadAsArray()\n",
    "#g = ds.GetRasterBand(2).ReadAsArray()\n",
    "#b = ds.GetRasterBand(3).ReadAsArray()\n",
    "plt.imshow(r)"
   ]
  },
  {
   "cell_type": "code",
   "execution_count": null,
   "metadata": {},
   "outputs": [],
   "source": [
    "ds = gdal.Open(output_path, gdal.GA_ReadOnly)\n",
    "r = ds.GetRasterBand(1).ReadAsArray()\n",
    "#g = ds.GetRasterBand(2).ReadAsArray()\n",
    "#b = ds.GetRasterBand(3).ReadAsArray()\n",
    "plt.imshow(r)"
   ]
  },
  {
   "cell_type": "code",
   "execution_count": null,
   "metadata": {},
   "outputs": [],
   "source": [
    "import rasterio as rio\n",
    "with rio.open(input_path, 'w+',\n",
    "              driver='GTiff', count=1, width=1000, height=1000,\n",
    "              dtype=\"Byte\", tiled=True, compress='JPEG', jpeg_quality='40') as dataset:\n",
    "    r = ds.GetRasterBand(1).ReadAsArray()\n",
    "    #g = ds.GetRasterBand(2).ReadAsArray()\n",
    "    #b = ds.GetRasterBand(3).ReadAsArray()\n",
    "    plt.imshow(r)"
   ]
  }
 ],
 "metadata": {
  "language_info": {
   "name": "python"
  },
  "orig_nbformat": 4
 },
 "nbformat": 4,
 "nbformat_minor": 2
}
